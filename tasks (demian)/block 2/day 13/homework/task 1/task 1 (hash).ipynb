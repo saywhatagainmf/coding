{
 "cells": [
  {
   "cell_type": "code",
   "execution_count": 4,
   "metadata": {},
   "outputs": [],
   "source": [
    "def code(coords : (int, int)) -> int:\n",
    "    r, c = coords\n",
    "    return r * r + c\n",
    "\n",
    "def decode(hash : int) -> (int, int):\n",
    "    temp = int(hash ** 0.5)\n",
    "    return (temp, hash - temp * temp)\n",
    "\n",
    "def left(hash : int) -> int:\n",
    "    temp = int(hash ** 0.5)\n",
    "    return hash + 2 * temp + 1\n",
    "\n",
    "def right(hash : int) -> int:\n",
    "    temp = int(hash ** 0.5)\n",
    "    return hash + 2 * temp + 2"
   ]
  },
  {
   "cell_type": "code",
   "execution_count": 3,
   "metadata": {},
   "outputs": [],
   "source": [
    "def generate(n: int, changes: list) -> set:\n",
    "    path = [1] * n\n",
    "    answer = set()\n",
    "\n",
    "    for i in range(n):\n",
    "        h = code((i, i))\n",
    "        answer.add((h, right(h)))\n",
    "\n",
    "    for i in range(n):\n",
    "        x, y = 0, 0\n",
    "        path[changes[i] - 1] = 0\n",
    "        for rot in path:\n",
    "            h = code((x, y))\n",
    "            if rot == 1:\n",
    "                answer.add((h, right(h)))\n",
    "                y += 1\n",
    "            else:\n",
    "                answer.add((h, left(h)))\n",
    "            x += 1\n",
    "\n",
    "    return answer"
   ]
  },
  {
   "cell_type": "code",
   "execution_count": 5,
   "metadata": {},
   "outputs": [],
   "source": [
    "def path(tree : dict, current : int, answer : set) -> set:\n",
    "    answer.add(current)\n",
    "    if current == 0:\n",
    "        return answer\n",
    "    for node in tree:\n",
    "        if current in tree[node]:\n",
    "            return path(tree, node, answer)"
   ]
  },
  {
   "cell_type": "code",
   "execution_count": 8,
   "metadata": {},
   "outputs": [],
   "source": [
    "def algo(first : set, second : set) -> int:\n",
    "    if len(first) > len(second):\n",
    "        return algo(second, first)\n",
    "    \n",
    "    l = 0\n",
    "    r = len(first) - 1\n",
    "\n",
    "    first = sorted(list(first))\n",
    "    el = first[r]\n",
    "\n",
    "    if el in second:\n",
    "        return el\n",
    "    \n",
    "    while r - l != 1:\n",
    "        m = (r + l) // 2\n",
    "        if first[m] in second:\n",
    "            l = m\n",
    "        else:\n",
    "            r = m\n",
    "    \n",
    "    return first[l]"
   ]
  },
  {
   "cell_type": "code",
   "execution_count": null,
   "metadata": {},
   "outputs": [],
   "source": [
    "n : int = int(input())\n",
    "rotations : list = list(map(int, input().split()))\n",
    "\n",
    "edges = generate(n, rotations)\n",
    "\n",
    "tree = {}\n",
    "\n",
    "for i in range(n * (n + 1) + 1):\n",
    "    tree[i] = set()\n",
    "    if (i, left(i)) in edges:\n",
    "        tree[i].add(left(i))\n",
    "    if (i, right(i)) in edges:\n",
    "        tree[i].add(right(i))\n",
    "\n",
    "t = int(input())\n",
    "for _ in range(t):\n",
    "    a, b, c , d = map(int, input().split())\n",
    "\n",
    "    first = path(tree, code((a, b)), {0})\n",
    "    second = path(tree, code((c, d)), {0})\n",
    "\n",
    "    row, column = decode(algo(first, second))\n",
    "    print(row, column)"
   ]
  }
 ],
 "metadata": {
  "kernelspec": {
   "display_name": "Python 3",
   "language": "python",
   "name": "python3"
  },
  "language_info": {
   "codemirror_mode": {
    "name": "ipython",
    "version": 3
   },
   "file_extension": ".py",
   "mimetype": "text/x-python",
   "name": "python",
   "nbconvert_exporter": "python",
   "pygments_lexer": "ipython3",
   "version": "3.11.4"
  },
  "orig_nbformat": 4
 },
 "nbformat": 4,
 "nbformat_minor": 2
}
